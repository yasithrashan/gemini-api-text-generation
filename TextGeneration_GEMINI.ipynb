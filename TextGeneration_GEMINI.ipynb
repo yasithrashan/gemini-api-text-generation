{
  "nbformat": 4,
  "nbformat_minor": 0,
  "metadata": {
    "colab": {
      "provenance": []
    },
    "kernelspec": {
      "name": "python3",
      "display_name": "Python 3"
    },
    "language_info": {
      "name": "python"
    }
  },
  "cells": [
    {
      "cell_type": "code",
      "execution_count": 9,
      "metadata": {
        "id": "iis7JjA3pGc0"
      },
      "outputs": [],
      "source": [
        "from google.colab import userdata\n",
        "import google.generativeai as genai"
      ]
    },
    {
      "cell_type": "code",
      "source": [
        "api_key = userdata.get('geminiapikey')"
      ],
      "metadata": {
        "id": "1ft-giFwqBJM"
      },
      "execution_count": 4,
      "outputs": []
    },
    {
      "cell_type": "code",
      "source": [
        "# Configure the Gemini client with the key\n",
        "genai.configure(api_key=api_key)"
      ],
      "metadata": {
        "id": "lwqmplcSqXHj"
      },
      "execution_count": 11,
      "outputs": []
    },
    {
      "cell_type": "code",
      "source": [
        "model = genai.GenerativeModel('gemini-2.5-flash')\n",
        "response = model.generate_content(\n",
        "    contents=\"Explain how AI works in a few words\",\n",
        ")"
      ],
      "metadata": {
        "id": "YGM1Iw1jqqga"
      },
      "execution_count": 16,
      "outputs": []
    },
    {
      "cell_type": "code",
      "source": [
        "print(response.text)"
      ],
      "metadata": {
        "colab": {
          "base_uri": "https://localhost:8080/"
        },
        "id": "vms583IqrE6E",
        "outputId": "0b052276-27fa-4073-8cba-e3528e8f3e96"
      },
      "execution_count": 18,
      "outputs": [
        {
          "output_type": "stream",
          "name": "stdout",
          "text": [
            "AI learns from data to find patterns, make decisions or predictions, and improve with experience.\n"
          ]
        }
      ]
    },
    {
      "cell_type": "code",
      "source": [],
      "metadata": {
        "id": "8tw3Rk7_rj1y"
      },
      "execution_count": null,
      "outputs": []
    }
  ]
}